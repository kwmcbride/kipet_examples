{
 "metadata": {
  "language_info": {
   "codemirror_mode": {
    "name": "ipython",
    "version": 3
   },
   "file_extension": ".py",
   "mimetype": "text/x-python",
   "name": "python",
   "nbconvert_exporter": "python",
   "pygments_lexer": "ipython3",
   "version": "3.8.2-final"
  },
  "orig_nbformat": 2,
  "kernelspec": {
   "name": "python38264bittestkipetbopmwef6py384c9cbd1de89c40c6b2cfcb4884dafcc6",
   "display_name": "Python 3.8.2 64-bit ('test-kipet-bopmwEf6-py3.8')",
   "language": "python"
  }
 },
 "nbformat": 4,
 "nbformat_minor": 2,
 "cells": [
  {
   "source": [
    "# Example 7: Heterogeneous Concentration Data\n",
    "\n",
    "This example shows how KIPET can fit parameters using concentration data samples taken at different time points.\n"
   ],
   "cell_type": "markdown",
   "metadata": {}
  },
  {
   "source": [
    "#### Set up KIPET"
   ],
   "cell_type": "markdown",
   "metadata": {}
  },
  {
   "cell_type": "code",
   "execution_count": 22,
   "metadata": {},
   "outputs": [
    {
     "output_type": "stream",
     "name": "stdout",
     "text": [
      "/home/kevin/Dev/kipet_test_install/test_kipet/kipet_examples/examples/example_7\n"
     ]
    }
   ],
   "source": [
    "import kipet\n",
    "kipet_model = kipet.KipetModel()\n",
    "\n",
    "from plotly.offline import download_plotlyjs, init_notebook_mode, plot, iplot\n",
    "# Since this is a jupyter notebook, it is best to use absolute paths for the data\n",
    "from pathlib import Path\n",
    "cur_dir = Path.cwd()\n",
    "print(cur_dir)"
   ]
  },
  {
   "source": [
    "#### Set up reaction model"
   ],
   "cell_type": "markdown",
   "metadata": {}
  },
  {
   "cell_type": "code",
   "execution_count": 19,
   "metadata": {},
   "outputs": [],
   "source": [
    "r1 = kipet_model.new_reaction('reaction-1')   \n",
    " \n",
    "# Add the model parameters\n",
    "k1 = r1.parameter('k1', value=2.0, bounds=(0.0, 5.0), units='1/min')\n",
    "k2 = r1.parameter('k2', value=0.2, bounds=(0.0, 2.0))\n",
    "\n",
    "# Declare the components and give the initial values\n",
    "A = r1.component('A', value=0.001)\n",
    "B = r1.component('B', value=0.0)\n",
    "C = r1.component('C', value=0.0)\n",
    "\n",
    "# Use this function to replace the old filename set-up\n",
    "filename = cur_dir.joinpath('data','missing_data_no_start.txt')\n",
    "r1.add_data('C_data', category='concentration', file=filename)\n",
    "\n",
    "rA = k1*A\n",
    "rB = k2*B\n",
    "\n",
    "# Define the reaction model\n",
    "r1.add_ode('A', -rA )\n",
    "r1.add_ode('B', rA - rB )\n",
    "r1.add_ode('C', rB )"
   ]
  },
  {
   "source": [
    "#### Define settings and solve"
   ],
   "cell_type": "markdown",
   "metadata": {}
  },
  {
   "cell_type": "code",
   "execution_count": 20,
   "metadata": {},
   "outputs": [
    {
     "output_type": "stream",
     "name": "stdout",
     "text": [
      "WARNING: DEPRECATED: The default domain for Param objects is 'Any'.  However,\n",
      "    we will be changing that default to 'Reals' in the future.  If you really\n",
      "    intend the domain of this Param (sigma) to be 'Any', you can suppress this\n",
      "    warning by explicitly specifying 'within=Any' to the Param constructor.\n",
      "    (deprecated in 5.6.9, will be removed in 6.0) (called from\n",
      "    /home/kevin/.cache/pypoetry/virtualenvs/test-kipet-\n",
      "    bopmwEf6-py3.8/lib/python3.8/site-packages/pyomo/core/base/param.py:78)\n",
      "WARNING: DEPRECATED: The default domain for Param objects is 'Any'.  However,\n",
      "    we will be changing that default to 'Reals' in the future.  If you really\n",
      "    intend the domain of this Param (sigma) to be 'Any', you can suppress this\n",
      "    warning by explicitly specifying 'within=Any' to the Param constructor.\n",
      "    (deprecated in 5.6.9, will be removed in 6.0) (called from\n",
      "    /home/kevin/.cache/pypoetry/virtualenvs/test-kipet-\n",
      "    bopmwEf6-py3.8/lib/python3.8/site-packages/pyomo/core/base/param.py:78)\n",
      "WARNING: DEPRECATED: The default domain for Param objects is 'Any'.  However,\n",
      "    we will be changing that default to 'Reals' in the future.  If you really\n",
      "    intend the domain of this Param (sigma) to be 'Any', you can suppress this\n",
      "    warning by explicitly specifying 'within=Any' to the Param constructor.\n",
      "    (deprecated in 5.6.9, will be removed in 6.0) (called from\n",
      "    /home/kevin/.cache/pypoetry/virtualenvs/test-kipet-\n",
      "    bopmwEf6-py3.8/lib/python3.8/site-packages/pyomo/core/base/param.py:78)\n",
      "No variance information for A found, setting equal to unity\n",
      "No variance information for B found, setting equal to unity\n",
      "No variance information for C found, setting equal to unity\n",
      "Ipopt 3.13.2: nlp_scaling_method=gradient-based\n",
      "linear_solver=ma57\n",
      "\n",
      "\n",
      "******************************************************************************\n",
      "This program contains Ipopt, a library for large-scale nonlinear optimization.\n",
      " Ipopt is released as open source code under the Eclipse Public License (EPL).\n",
      "         For more information visit http://projects.coin-or.org/Ipopt\n",
      "******************************************************************************\n",
      "\n",
      "This is Ipopt version 3.13.2, running with linear solver ma57.\n",
      "\n",
      "Number of nonzeros in equality constraint Jacobian...:     4683\n",
      "Number of nonzeros in inequality constraint Jacobian.:        0\n",
      "Number of nonzeros in Lagrangian Hessian.............:      457\n",
      "\n",
      "Total number of variables............................:     1085\n",
      "                     variables with only lower bounds:        0\n",
      "                variables with lower and upper bounds:        2\n",
      "                     variables with only upper bounds:        0\n",
      "Total number of equality constraints.................:     1083\n",
      "Total number of inequality constraints...............:        0\n",
      "        inequality constraints with only lower bounds:        0\n",
      "   inequality constraints with lower and upper bounds:        0\n",
      "        inequality constraints with only upper bounds:        0\n",
      "\n",
      "iter    objective    inf_pr   inf_du lg(mu)  ||d||  lg(rg) alpha_du alpha_pr  ls\n",
      "   0  6.7980104e+01 1.00e+00 3.53e-01  -1.0 0.00e+00    -  0.00e+00 0.00e+00   0\n",
      "Reallocating memory for MA57: lfact (38234)\n",
      "   1  7.2854506e-05 3.86e-04 4.43e-01  -1.0 1.00e+00    -  1.00e+00 1.00e+00f  1\n",
      "   2  1.4182403e-05 6.29e-05 1.29e-03  -1.7 1.06e-01    -  1.00e+00 1.00e+00h  1\n",
      "   3  1.1405987e-05 1.93e-06 1.04e-05  -3.8 9.55e-03    -  1.00e+00 1.00e+00h  1\n",
      "   4  1.0128277e-05 2.81e-06 1.29e-05  -5.7 4.40e-02    -  8.93e-01 1.00e+00h  1\n",
      "   5  8.0121411e-06 2.30e-05 9.67e-05  -5.7 2.16e-01    -  1.00e+00 1.00e+00h  1\n",
      "   6  7.5780416e-06 2.50e-06 1.06e-05  -5.7 7.04e-02  -4.0 1.00e+00 1.00e+00h  1\n",
      "   7  7.2747135e-06 2.68e-06 7.92e-06  -8.6 6.53e-02  -4.5 8.86e-01 1.00e+00h  1\n",
      "   8  6.7800052e-06 6.06e-06 1.25e-05  -8.6 1.61e-01  -5.0 9.63e-01 1.00e+00h  1\n",
      "   9  5.2189500e-06 1.64e-04 8.80e-05  -8.6 8.71e-01  -5.4 1.00e+00 1.00e+00h  1\n",
      "iter    objective    inf_pr   inf_du lg(mu)  ||d||  lg(rg) alpha_du alpha_pr  ls\n",
      "  10  2.1456725e-06 3.69e-04 1.95e-04  -8.6 9.94e-01  -5.0 1.00e+00 8.47e-01h  1\n",
      "  11  4.8313556e-06 1.11e-04 4.85e-04  -8.6 1.67e-01    -  3.76e-04 1.00e+00h  1\n",
      "  12  4.7925334e-07 1.74e-05 2.24e-05  -8.6 3.22e-01    -  1.00e+00 1.00e+00h  1\n",
      "  13  3.5583583e-08 3.93e-06 1.53e-05  -8.6 4.04e-02    -  1.00e+00 1.00e+00h  1\n",
      "  14  5.5268024e-09 7.66e-07 1.03e-06  -8.6 2.20e-02    -  1.00e+00 1.00e+00h  1\n",
      "  15  5.2937177e-09 5.96e-09 6.45e-09  -8.6 2.34e-03    -  1.00e+00 1.00e+00h  1\n",
      "\n",
      "Number of Iterations....: 15\n",
      "\n",
      "                                   (scaled)                 (unscaled)\n",
      "Objective...............:   5.2937177007069494e-09    5.2937177007069494e-09\n",
      "Dual infeasibility......:   6.4509020507159368e-09    6.4509020507159368e-09\n",
      "Constraint violation....:   5.9612581923894445e-09    5.9612581923894445e-09\n",
      "Complementarity.........:   2.5059035210575746e-09    2.5059035210575746e-09\n",
      "Overall NLP error.......:   6.4509020507159368e-09    6.4509020507159368e-09\n",
      "\n",
      "\n",
      "Number of objective function evaluations             = 16\n",
      "Number of objective gradient evaluations             = 16\n",
      "Number of equality constraint evaluations            = 16\n",
      "Number of inequality constraint evaluations          = 0\n",
      "Number of equality constraint Jacobian evaluations   = 16\n",
      "Number of inequality constraint Jacobian evaluations = 0\n",
      "Number of Lagrangian Hessian evaluations             = 15\n",
      "Total CPU secs in IPOPT (w/o function evaluations)   =      0.076\n",
      "Total CPU secs in NLP function evaluations           =      0.000\n",
      "\n",
      "EXIT: Optimal Solution Found.\n",
      "\n",
      "The estimated parameters are:\n",
      "k1 0.2257543293823875\n",
      "k2 1.0230769291283845\n"
     ]
    }
   ],
   "source": [
    "r1.settings.collocation.nfe = 60\n",
    "    \n",
    "# Start parameter fitting\n",
    "r1.run_opt()  \n",
    "r1.results.show_parameters"
   ]
  },
  {
   "source": [
    "#### Plot results"
   ],
   "cell_type": "markdown",
   "metadata": {}
  },
  {
   "cell_type": "code",
   "execution_count": 23,
   "metadata": {},
   "outputs": [
    {
     "output_type": "error",
     "ename": "TypeError",
     "evalue": "plot() got an unexpected keyword argument 'jupyter'",
     "traceback": [
      "\u001b[0;31m---------------------------------------------------------------------------\u001b[0m",
      "\u001b[0;31mTypeError\u001b[0m                                 Traceback (most recent call last)",
      "\u001b[0;32m<ipython-input-23-73bdce2b9aec>\u001b[0m in \u001b[0;36m<module>\u001b[0;34m\u001b[0m\n\u001b[0;32m----> 1\u001b[0;31m \u001b[0mr1\u001b[0m\u001b[0;34m.\u001b[0m\u001b[0mplot\u001b[0m\u001b[0;34m(\u001b[0m\u001b[0mjupyter\u001b[0m\u001b[0;34m=\u001b[0m\u001b[0;32mTrue\u001b[0m\u001b[0;34m)\u001b[0m\u001b[0;34m\u001b[0m\u001b[0;34m\u001b[0m\u001b[0m\n\u001b[0m",
      "\u001b[0;31mTypeError\u001b[0m: plot() got an unexpected keyword argument 'jupyter'"
     ]
    }
   ],
   "source": [
    "\n",
    "r1.plot(jupyter=True)"
   ]
  },
  {
   "cell_type": "code",
   "execution_count": 12,
   "metadata": {},
   "outputs": [
    {
     "output_type": "stream",
     "name": "stdout",
     "text": [
      "/home/kevin/Dev/kipet_test_install/test_kipet/kipet_examples/examples/example_7\n"
     ]
    }
   ],
   "source": [
    "import pathlib\n",
    "\n",
    "print(pathlib.Path.cwd())"
   ]
  },
  {
   "cell_type": "code",
   "execution_count": 14,
   "metadata": {},
   "outputs": [
    {
     "output_type": "stream",
     "name": "stdout",
     "text": [
      "/home/kevin/.cache/pypoetry/virtualenvs/test-kipet-bopmwEf6-py3.8/lib/python3.8/site-packages\n"
     ]
    }
   ],
   "source": [
    "calling_file_name = os.path.dirname(os.path.realpath(sys.argv[0]))\n",
    "#filename = pathlib.Path(calling_file_name).joinpath(filename)\n",
    "print(calling_file_name)"
   ]
  }
 ]
}